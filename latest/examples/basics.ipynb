{
 "cells": [
  {
   "cell_type": "markdown",
   "id": "d45381f4",
   "metadata": {},
   "source": [
    "# Oddslib basics"
   ]
  },
  {
   "cell_type": "code",
   "execution_count": 15,
   "id": "e255d6b8",
   "metadata": {},
   "outputs": [
    {
     "name": "stdout",
     "output_type": "stream",
     "text": [
      "Supported formats: decimal, american, fractional\n"
     ]
    }
   ],
   "source": [
    "import numpy as np\n",
    "from oddslib.formats import convert_odds, OddsFormat\n",
    "\n",
    "print(f\"Supported formats: {', '.join([x.value for x in iter(OddsFormat)])}\")"
   ]
  },
  {
   "cell_type": "code",
   "execution_count": 17,
   "id": "ff7184a6",
   "metadata": {},
   "outputs": [
    {
     "data": {
      "text/plain": [
       "1.9615384615384617"
      ]
     },
     "execution_count": 17,
     "metadata": {},
     "output_type": "execute_result"
    }
   ],
   "source": [
    "american = -104\n",
    "decimal = convert_odds(\n",
    "    american,\n",
    "    from_format=\"american\",\n",
    "    to_format=\"decimal\"\n",
    ")\n",
    "decimal"
   ]
  },
  {
   "cell_type": "code",
   "execution_count": 18,
   "id": "9eb1dec7",
   "metadata": {},
   "outputs": [
    {
     "data": {
      "text/plain": [
       "-104.0"
      ]
     },
     "execution_count": 18,
     "metadata": {},
     "output_type": "execute_result"
    }
   ],
   "source": [
    "convert_odds(\n",
    "    decimal,\n",
    "    from_format=\"decimal\",\n",
    "    to_format='american'\n",
    ")"
   ]
  },
  {
   "cell_type": "code",
   "execution_count": 20,
   "id": "a4c234ab",
   "metadata": {},
   "outputs": [
    {
     "name": "stdout",
     "output_type": "stream",
     "text": [
      "[2.2        1.68965517]\n"
     ]
    }
   ],
   "source": [
    "american = np.array([+120, -145])\n",
    "decimal = convert_odds(\n",
    "    american,\n",
    "    from_format=\"american\",\n",
    "    to_format=\"decimal\"\n",
    ")\n",
    "print(decimal)"
   ]
  },
  {
   "cell_type": "code",
   "execution_count": 27,
   "id": "f3981abe",
   "metadata": {},
   "outputs": [
    {
     "data": {
      "text/plain": [
       "array(['6/5', '20/29'], dtype=object)"
      ]
     },
     "execution_count": 27,
     "metadata": {},
     "output_type": "execute_result"
    }
   ],
   "source": [
    "convert_odds(\n",
    "    american,\n",
    "    to_format='fractional'\n",
    ")"
   ]
  }
 ],
 "metadata": {
  "kernelspec": {
   "display_name": "oddslib (3.12.11)",
   "language": "python",
   "name": "python3"
  },
  "language_info": {
   "codemirror_mode": {
    "name": "ipython",
    "version": 3
   },
   "file_extension": ".py",
   "mimetype": "text/x-python",
   "name": "python",
   "nbconvert_exporter": "python",
   "pygments_lexer": "ipython3",
   "version": "3.12.11"
  }
 },
 "nbformat": 4,
 "nbformat_minor": 5
}
